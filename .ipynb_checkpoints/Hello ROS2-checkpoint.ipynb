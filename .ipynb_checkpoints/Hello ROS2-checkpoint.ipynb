{
 "cells": [
  {
   "cell_type": "code",
   "execution_count": 1,
   "id": "77ad0141-b4f3-4dab-bd42-3a484a2dce14",
   "metadata": {},
   "outputs": [
    {
     "name": "stdout",
     "output_type": "stream",
     "text": [
      "Hello ROS2\n"
     ]
    }
   ],
   "source": [
    "print('Hello ROS2')"
   ]
  },
  {
   "cell_type": "markdown",
   "id": "7d3a7f07-ef4a-4ce1-87d3-13a7d218cea7",
   "metadata": {},
   "source": [
    "# Hello, I'm SEONGWON JANG 👋\n",
    "\n",
    "안녕하세요, 저는 **로봇 공학자**를 꿈꾸는 학생입니다.\n",
    "\n",
    "저는 세상을 움직이는 기술에 관심을 가지고 있으며, 로봇 공학의 발전이 세상을 좋은 방향으로 바꾸어 줄 것이라고 생각합니다.\n",
    "\n",
    "구체적으로 연구하고 싶은 분야는 **SLAM**(동시적 위치추정 및 지도작성)이며, 앞으로 공부한 내용과 수행한 프로젝트를 깃허브에 정리하려고 합니다.\n",
    "\n",
    "또한 **퍼즐 게임 개발**에 관심이 많으며, 저의 게임을 누군가가 재미있게 해준다면 정말 행복할 것 같다는 생각을 가지고 있습니다."
   ]
  },
  {
   "cell_type": "markdown",
   "id": "6675633b-5a2e-42d3-9771-6aeb4f24586d",
   "metadata": {},
   "source": [
    "Italic : *Italic*\n",
    "\n",
    "Bold : **Bold**\n",
    "\n",
    "both : ***both***"
   ]
  },
  {
   "cell_type": "markdown",
   "id": "8114fe77-d12f-4b0e-b9b3-a47bfe03379f",
   "metadata": {},
   "source": [
    "> *“If you live each day as if it were your last, someday you'll be right. Every morning I looked in the mirror and asked myself: If today were the last day of my life, would I want to do what I do today? ” - Steve Jobs*"
   ]
  },
  {
   "cell_type": "markdown",
   "id": "ae7404f8-2e52-4efc-8b56-deb72c1b8146",
   "metadata": {},
   "source": [
    "~~~python\n",
    "def hello_world():\n",
    "    print('Hello World')\n",
    "~~~"
   ]
  }
 ],
 "metadata": {
  "kernelspec": {
   "display_name": "Python 3 (ipykernel)",
   "language": "python",
   "name": "python3"
  },
  "language_info": {
   "codemirror_mode": {
    "name": "ipython",
    "version": 3
   },
   "file_extension": ".py",
   "mimetype": "text/x-python",
   "name": "python",
   "nbconvert_exporter": "python",
   "pygments_lexer": "ipython3",
   "version": "3.10.12"
  }
 },
 "nbformat": 4,
 "nbformat_minor": 5
}
