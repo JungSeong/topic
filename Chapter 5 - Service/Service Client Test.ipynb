{
 "cells": [
  {
   "cell_type": "code",
   "execution_count": 6,
   "id": "e514800a-cb79-4e76-b837-4c8cfd1f1d68",
   "metadata": {},
   "outputs": [
    {
     "ename": "RuntimeError",
     "evalue": "Context.init() must only be called once",
     "output_type": "error",
     "traceback": [
      "\u001b[0;31m---------------------------------------------------------------------------\u001b[0m",
      "\u001b[0;31mRuntimeError\u001b[0m                              Traceback (most recent call last)",
      "Cell \u001b[0;32mIn[6], line 4\u001b[0m\n\u001b[1;32m      1\u001b[0m \u001b[38;5;28;01mimport\u001b[39;00m \u001b[38;5;21;01mrclpy\u001b[39;00m \u001b[38;5;28;01mas\u001b[39;00m \u001b[38;5;21;01mrp\u001b[39;00m\n\u001b[1;32m      2\u001b[0m \u001b[38;5;28;01mfrom\u001b[39;00m \u001b[38;5;21;01mturtlesim\u001b[39;00m\u001b[38;5;21;01m.\u001b[39;00m\u001b[38;5;21;01msrv\u001b[39;00m \u001b[38;5;28;01mimport\u001b[39;00m TeleportAbsolute\n\u001b[0;32m----> 4\u001b[0m \u001b[43mrp\u001b[49m\u001b[38;5;241;43m.\u001b[39;49m\u001b[43minit\u001b[49m\u001b[43m(\u001b[49m\u001b[43m)\u001b[49m\n\u001b[1;32m      5\u001b[0m test_node \u001b[38;5;241m=\u001b[39m rp\u001b[38;5;241m.\u001b[39mcreate_node(\u001b[38;5;124m'\u001b[39m\u001b[38;5;124mclient_test\u001b[39m\u001b[38;5;124m'\u001b[39m) \u001b[38;5;66;03m#client_test라는 노드를 생성하고 이를 test_node라는 이름으로 지정한다\u001b[39;00m\n",
      "File \u001b[0;32m/opt/ros/humble/local/lib/python3.10/dist-packages/rclpy/__init__.py:89\u001b[0m, in \u001b[0;36minit\u001b[0;34m(args, context, domain_id, signal_handler_options)\u001b[0m\n\u001b[1;32m     87\u001b[0m         signal_handler_options \u001b[38;5;241m=\u001b[39m SignalHandlerOptions\u001b[38;5;241m.\u001b[39mNO\n\u001b[1;32m     88\u001b[0m install_signal_handlers(signal_handler_options)\n\u001b[0;32m---> 89\u001b[0m \u001b[38;5;28;01mreturn\u001b[39;00m \u001b[43mcontext\u001b[49m\u001b[38;5;241;43m.\u001b[39;49m\u001b[43minit\u001b[49m\u001b[43m(\u001b[49m\u001b[43margs\u001b[49m\u001b[43m,\u001b[49m\u001b[43m \u001b[49m\u001b[43mdomain_id\u001b[49m\u001b[38;5;241;43m=\u001b[39;49m\u001b[43mdomain_id\u001b[49m\u001b[43m)\u001b[49m\n",
      "File \u001b[0;32m/opt/ros/humble/local/lib/python3.10/dist-packages/rclpy/context.py:70\u001b[0m, in \u001b[0;36mContext.init\u001b[0;34m(self, args, initialize_logging, domain_id)\u001b[0m\n\u001b[1;32m     65\u001b[0m     \u001b[38;5;28;01mraise\u001b[39;00m \u001b[38;5;167;01mRuntimeError\u001b[39;00m(\n\u001b[1;32m     66\u001b[0m         \u001b[38;5;124m'\u001b[39m\u001b[38;5;124mDomain id (\u001b[39m\u001b[38;5;132;01m{}\u001b[39;00m\u001b[38;5;124m) should not be lower than zero.\u001b[39m\u001b[38;5;124m'\u001b[39m\n\u001b[1;32m     67\u001b[0m         \u001b[38;5;241m.\u001b[39mformat(domain_id))\n\u001b[1;32m     69\u001b[0m \u001b[38;5;28;01mif\u001b[39;00m \u001b[38;5;28mself\u001b[39m\u001b[38;5;241m.\u001b[39m__context \u001b[38;5;129;01mis\u001b[39;00m \u001b[38;5;129;01mnot\u001b[39;00m \u001b[38;5;28;01mNone\u001b[39;00m:\n\u001b[0;32m---> 70\u001b[0m     \u001b[38;5;28;01mraise\u001b[39;00m \u001b[38;5;167;01mRuntimeError\u001b[39;00m(\u001b[38;5;124m'\u001b[39m\u001b[38;5;124mContext.init() must only be called once\u001b[39m\u001b[38;5;124m'\u001b[39m)\n\u001b[1;32m     72\u001b[0m \u001b[38;5;28mself\u001b[39m\u001b[38;5;241m.\u001b[39m__context \u001b[38;5;241m=\u001b[39m _rclpy\u001b[38;5;241m.\u001b[39mContext(\n\u001b[1;32m     73\u001b[0m     args \u001b[38;5;28;01mif\u001b[39;00m args \u001b[38;5;129;01mis\u001b[39;00m \u001b[38;5;129;01mnot\u001b[39;00m \u001b[38;5;28;01mNone\u001b[39;00m \u001b[38;5;28;01melse\u001b[39;00m sys\u001b[38;5;241m.\u001b[39margv,\n\u001b[1;32m     74\u001b[0m     domain_id \u001b[38;5;28;01mif\u001b[39;00m domain_id \u001b[38;5;129;01mis\u001b[39;00m \u001b[38;5;129;01mnot\u001b[39;00m \u001b[38;5;28;01mNone\u001b[39;00m \u001b[38;5;28;01melse\u001b[39;00m _rclpy\u001b[38;5;241m.\u001b[39mRCL_DEFAULT_DOMAIN_ID)\n\u001b[1;32m     75\u001b[0m \u001b[38;5;28;01mif\u001b[39;00m initialize_logging \u001b[38;5;129;01mand\u001b[39;00m \u001b[38;5;129;01mnot\u001b[39;00m \u001b[38;5;28mself\u001b[39m\u001b[38;5;241m.\u001b[39m_logging_initialized:\n",
      "\u001b[0;31mRuntimeError\u001b[0m: Context.init() must only be called once"
     ]
    }
   ],
   "source": [
    "import rclpy as rp\n",
    "from turtlesim.srv import TeleportAbsolute\n",
    "\n",
    "rp.init()\n",
    "test_node = rp.create_node('client_test') #client_test라는 노드를 생성하고 이를 test_node라는 이름으로 지정한다"
   ]
  },
  {
   "cell_type": "code",
   "execution_count": 26,
   "id": "40a84061-fd6b-4614-b20f-506a045bd60d",
   "metadata": {},
   "outputs": [
    {
     "name": "stdout",
     "output_type": "stream",
     "text": [
      "turtlesim.srv.TeleportAbsolute_Request(x=1.0, y=2.0, theta=3.14)\n"
     ]
    },
    {
     "data": {
      "text/plain": [
       "<rclpy.task.Future at 0x7f556485f5e0>"
      ]
     },
     "execution_count": 26,
     "metadata": {},
     "output_type": "execute_result"
    }
   ],
   "source": [
    "service_name = '/turtle1/teleport_absolute'\n",
    "client = test_node.create_client(TeleportAbsolute, service_name) #TeleportAbsolute라는 서비스를 요청할 클라이언트 'test_node'를 생성하고, 이를 client라는 변수에 대입\n",
    "\n",
    "req = TeleportAbsolute.Request()\n",
    "\n",
    "req.x = 1.0\n",
    "req.y = 2.0\n",
    "req.theta = 3.14\n",
    "\n",
    "print(req)\n",
    "client.call_async(req)"
   ]
  },
  {
   "cell_type": "code",
   "execution_count": 24,
   "id": "8e8cfb09-3ce7-4699-8a88-c1bb94a9c2a5",
   "metadata": {},
   "outputs": [],
   "source": [
    "req.y = 9.0\n",
    "while not client.wait_for_service(timeout_sec=1.0): #해당 서비스가 아직 시작되지 않았다면 1초에 한 번씩 print()문을 실행함\n",
    "    print(\"Waiting for Service\")\n",
    "\n",
    "client.call_async(req)\n",
    "rp.spin_once(test_node)"
   ]
  },
  {
   "cell_type": "code",
   "execution_count": 27,
   "id": "e270ba2d-53e6-4caf-b8b1-a5f476d308e6",
   "metadata": {},
   "outputs": [
    {
     "name": "stdout",
     "output_type": "stream",
     "text": [
      "False None\n",
      "False None\n",
      "False None\n",
      "False None\n",
      "False None\n",
      "False None\n",
      "False None\n",
      "False None\n",
      "False None\n",
      "False None\n",
      "False None\n",
      "False None\n",
      "False None\n",
      "False None\n",
      "False None\n",
      "False None\n",
      "False None\n",
      "False None\n",
      "False None\n",
      "False None\n",
      "False None\n",
      "False None\n",
      "False None\n",
      "False None\n",
      "False None\n",
      "False None\n",
      "False None\n",
      "False None\n",
      "False None\n",
      "False None\n",
      "False None\n",
      "False None\n",
      "False None\n",
      "False None\n",
      "False None\n",
      "False None\n",
      "False None\n",
      "False None\n",
      "False None\n",
      "False None\n",
      "False None\n",
      "False None\n",
      "False None\n",
      "False None\n",
      "False None\n",
      "False None\n",
      "False None\n",
      "False None\n",
      "False None\n",
      "False None\n",
      "False None\n",
      "False None\n",
      "False None\n",
      "False None\n",
      "False None\n",
      "False None\n",
      "False None\n",
      "True turtlesim.srv.TeleportAbsolute_Response()\n"
     ]
    }
   ],
   "source": [
    "req.y = 9.0\n",
    "\n",
    "future = client.call_async(req)\n",
    "\n",
    "while not future.done():\n",
    "    rp.spin_once(test_node)\n",
    "    print(future.done(), future.result())"
   ]
  },
  {
   "cell_type": "code",
   "execution_count": 28,
   "id": "ae190918-56cb-4e24-bf83-58762c12fb69",
   "metadata": {},
   "outputs": [
    {
     "name": "stdout",
     "output_type": "stream",
     "text": [
      "std_srvs.srv.Empty_Request()\n"
     ]
    },
    {
     "data": {
      "text/plain": [
       "<rclpy.task.Future at 0x7f5564844cd0>"
      ]
     },
     "execution_count": 28,
     "metadata": {},
     "output_type": "execute_result"
    }
   ],
   "source": [
    "from std_srvs.srv import Empty\n",
    "\n",
    "service_name = '/reset'\n",
    "client = test_node.create_client(Empty, service_name)\n",
    "\n",
    "req = Empty.Request()\n",
    "print(req)\n",
    "\n",
    "client.call_async(req)"
   ]
  },
  {
   "cell_type": "code",
   "execution_count": null,
   "id": "b1e5d98a-48ec-49f7-a41f-fec2fefa3ef2",
   "metadata": {},
   "outputs": [],
   "source": []
  }
 ],
 "metadata": {
  "kernelspec": {
   "display_name": "Python 3 (ipykernel)",
   "language": "python",
   "name": "python3"
  },
  "language_info": {
   "codemirror_mode": {
    "name": "ipython",
    "version": 3
   },
   "file_extension": ".py",
   "mimetype": "text/x-python",
   "name": "python",
   "nbconvert_exporter": "python",
   "pygments_lexer": "ipython3",
   "version": "3.10.12"
  }
 },
 "nbformat": 4,
 "nbformat_minor": 5
}
