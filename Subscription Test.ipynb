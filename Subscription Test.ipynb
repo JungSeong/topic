{
 "cells": [
  {
   "cell_type": "markdown",
   "id": "a0e9e150-925f-4c13-9758-d800915a2bf6",
   "metadata": {},
   "source": [
    "# 토픽을 구독하는 test_node의 작성\n",
    "\n",
    "rclpy = ROS Client Library for Python\n",
    "\n",
    "/turtle1/pose라는 토픽의 데이터 타입이 turtlesim/msg/Pose이다."
   ]
  },
  {
   "cell_type": "code",
   "execution_count": 9,
   "id": "3ec86b43-bab9-43c4-83d9-2762252850e6",
   "metadata": {},
   "outputs": [],
   "source": [
    "import rclpy as rp\n",
    "from turtlesim.msg import Pose"
   ]
  },
  {
   "cell_type": "code",
   "execution_count": 3,
   "id": "e60d459d-0d24-445b-9248-c8e14b047ae7",
   "metadata": {
    "scrolled": true
   },
   "outputs": [
    {
     "ename": "RuntimeError",
     "evalue": "Context.init() must only be called once",
     "output_type": "error",
     "traceback": [
      "\u001b[0;31m---------------------------------------------------------------------------\u001b[0m",
      "\u001b[0;31mRuntimeError\u001b[0m                              Traceback (most recent call last)",
      "Cell \u001b[0;32mIn[3], line 1\u001b[0m\n\u001b[0;32m----> 1\u001b[0m \u001b[43mrp\u001b[49m\u001b[38;5;241;43m.\u001b[39;49m\u001b[43minit\u001b[49m\u001b[43m(\u001b[49m\u001b[43m)\u001b[49m\n\u001b[1;32m      2\u001b[0m test_node \u001b[38;5;241m=\u001b[39m rp\u001b[38;5;241m.\u001b[39mcreate_node(\u001b[38;5;124m'\u001b[39m\u001b[38;5;124msub_test\u001b[39m\u001b[38;5;124m'\u001b[39m)\n",
      "File \u001b[0;32m/opt/ros/humble/local/lib/python3.10/dist-packages/rclpy/__init__.py:89\u001b[0m, in \u001b[0;36minit\u001b[0;34m(args, context, domain_id, signal_handler_options)\u001b[0m\n\u001b[1;32m     87\u001b[0m         signal_handler_options \u001b[38;5;241m=\u001b[39m SignalHandlerOptions\u001b[38;5;241m.\u001b[39mNO\n\u001b[1;32m     88\u001b[0m install_signal_handlers(signal_handler_options)\n\u001b[0;32m---> 89\u001b[0m \u001b[38;5;28;01mreturn\u001b[39;00m \u001b[43mcontext\u001b[49m\u001b[38;5;241;43m.\u001b[39;49m\u001b[43minit\u001b[49m\u001b[43m(\u001b[49m\u001b[43margs\u001b[49m\u001b[43m,\u001b[49m\u001b[43m \u001b[49m\u001b[43mdomain_id\u001b[49m\u001b[38;5;241;43m=\u001b[39;49m\u001b[43mdomain_id\u001b[49m\u001b[43m)\u001b[49m\n",
      "File \u001b[0;32m/opt/ros/humble/local/lib/python3.10/dist-packages/rclpy/context.py:70\u001b[0m, in \u001b[0;36mContext.init\u001b[0;34m(self, args, initialize_logging, domain_id)\u001b[0m\n\u001b[1;32m     65\u001b[0m     \u001b[38;5;28;01mraise\u001b[39;00m \u001b[38;5;167;01mRuntimeError\u001b[39;00m(\n\u001b[1;32m     66\u001b[0m         \u001b[38;5;124m'\u001b[39m\u001b[38;5;124mDomain id (\u001b[39m\u001b[38;5;132;01m{}\u001b[39;00m\u001b[38;5;124m) should not be lower than zero.\u001b[39m\u001b[38;5;124m'\u001b[39m\n\u001b[1;32m     67\u001b[0m         \u001b[38;5;241m.\u001b[39mformat(domain_id))\n\u001b[1;32m     69\u001b[0m \u001b[38;5;28;01mif\u001b[39;00m \u001b[38;5;28mself\u001b[39m\u001b[38;5;241m.\u001b[39m__context \u001b[38;5;129;01mis\u001b[39;00m \u001b[38;5;129;01mnot\u001b[39;00m \u001b[38;5;28;01mNone\u001b[39;00m:\n\u001b[0;32m---> 70\u001b[0m     \u001b[38;5;28;01mraise\u001b[39;00m \u001b[38;5;167;01mRuntimeError\u001b[39;00m(\u001b[38;5;124m'\u001b[39m\u001b[38;5;124mContext.init() must only be called once\u001b[39m\u001b[38;5;124m'\u001b[39m)\n\u001b[1;32m     72\u001b[0m \u001b[38;5;28mself\u001b[39m\u001b[38;5;241m.\u001b[39m__context \u001b[38;5;241m=\u001b[39m _rclpy\u001b[38;5;241m.\u001b[39mContext(\n\u001b[1;32m     73\u001b[0m     args \u001b[38;5;28;01mif\u001b[39;00m args \u001b[38;5;129;01mis\u001b[39;00m \u001b[38;5;129;01mnot\u001b[39;00m \u001b[38;5;28;01mNone\u001b[39;00m \u001b[38;5;28;01melse\u001b[39;00m sys\u001b[38;5;241m.\u001b[39margv,\n\u001b[1;32m     74\u001b[0m     domain_id \u001b[38;5;28;01mif\u001b[39;00m domain_id \u001b[38;5;129;01mis\u001b[39;00m \u001b[38;5;129;01mnot\u001b[39;00m \u001b[38;5;28;01mNone\u001b[39;00m \u001b[38;5;28;01melse\u001b[39;00m _rclpy\u001b[38;5;241m.\u001b[39mRCL_DEFAULT_DOMAIN_ID)\n\u001b[1;32m     75\u001b[0m \u001b[38;5;28;01mif\u001b[39;00m initialize_logging \u001b[38;5;129;01mand\u001b[39;00m \u001b[38;5;129;01mnot\u001b[39;00m \u001b[38;5;28mself\u001b[39m\u001b[38;5;241m.\u001b[39m_logging_initialized:\n",
      "\u001b[0;31mRuntimeError\u001b[0m: Context.init() must only be called once"
     ]
    }
   ],
   "source": [
    "rp.init()\n",
    "test_node = rp.create_node('sub_test')"
   ]
  },
  {
   "cell_type": "code",
   "execution_count": 10,
   "id": "d4772557-53c6-484a-808e-e5f7d1ba262a",
   "metadata": {},
   "outputs": [
    {
     "name": "stdout",
     "output_type": "stream",
     "text": [
      "turtlesim.msg.Pose(x=0.0, y=0.0, theta=0.0, linear_velocity=0.0, angular_velocity=0.0)\n"
     ]
    }
   ],
   "source": [
    "msg = Pose()\n",
    "print(msg)"
   ]
  },
  {
   "cell_type": "code",
   "execution_count": 4,
   "id": "f86349a3-b218-42b6-9af6-d944f13cad4f",
   "metadata": {},
   "outputs": [],
   "source": [
    "#callback 함수가 받는 data = turtlesim/msg/Pose\n",
    "\n",
    "count = 0\n",
    "\n",
    "def callback(data):\n",
    "    global count\n",
    "    count += 1\n",
    "    print(\"--->\")\n",
    "    print(\"/turtle1/pose : \", data, \"count : \", count)\n",
    "    print(\"X : \", data.x)\n",
    "    print(\"Y : \", data.y)\n",
    "    print(\"Theta : \", data.theta)\n",
    "    if count > 5:\n",
    "        count = 0\n",
    "        raise Exception(\"Stop Subscription\")"
   ]
  },
  {
   "cell_type": "markdown",
   "id": "af158e01-e6d0-4fd6-bb97-641048d77f4d",
   "metadata": {},
   "source": [
    "[EX]\n",
    "\n",
    "test_node.create_subscription(data_type, topic_name, callback, QoS History)"
   ]
  },
  {
   "cell_type": "code",
   "execution_count": 5,
   "id": "c1443261-f343-47ae-9294-930fe3654937",
   "metadata": {},
   "outputs": [
    {
     "data": {
      "text/plain": [
       "<rclpy.subscription.Subscription at 0x7fc69abb0190>"
      ]
     },
     "execution_count": 5,
     "metadata": {},
     "output_type": "execute_result"
    }
   ],
   "source": [
    "test_node.create_subscription(Pose, '/turtle1/pose', callback, 10)"
   ]
  },
  {
   "cell_type": "code",
   "execution_count": 7,
   "id": "5bf301c3-62dc-45e7-a095-924e8a7241e8",
   "metadata": {},
   "outputs": [
    {
     "name": "stdout",
     "output_type": "stream",
     "text": [
      "--->\n",
      "/turtle1/pose :  turtlesim.msg.Pose(x=5.544444561004639, y=5.544444561004639, theta=0.0, linear_velocity=0.0, angular_velocity=0.0) count :  1\n",
      "X :  5.544444561004639\n",
      "Y :  5.544444561004639\n",
      "Theta :  0.0\n",
      "--->\n",
      "/turtle1/pose :  turtlesim.msg.Pose(x=5.544444561004639, y=5.544444561004639, theta=0.0, linear_velocity=0.0, angular_velocity=0.0) count :  2\n",
      "X :  5.544444561004639\n",
      "Y :  5.544444561004639\n",
      "Theta :  0.0\n",
      "--->\n",
      "/turtle1/pose :  turtlesim.msg.Pose(x=5.544444561004639, y=5.544444561004639, theta=0.0, linear_velocity=0.0, angular_velocity=0.0) count :  3\n",
      "X :  5.544444561004639\n",
      "Y :  5.544444561004639\n",
      "Theta :  0.0\n",
      "--->\n",
      "/turtle1/pose :  turtlesim.msg.Pose(x=5.544444561004639, y=5.544444561004639, theta=0.0, linear_velocity=0.0, angular_velocity=0.0) count :  4\n",
      "X :  5.544444561004639\n",
      "Y :  5.544444561004639\n",
      "Theta :  0.0\n",
      "--->\n",
      "/turtle1/pose :  turtlesim.msg.Pose(x=5.544444561004639, y=5.544444561004639, theta=0.0, linear_velocity=0.0, angular_velocity=0.0) count :  5\n",
      "X :  5.544444561004639\n",
      "Y :  5.544444561004639\n",
      "Theta :  0.0\n",
      "--->\n",
      "/turtle1/pose :  turtlesim.msg.Pose(x=5.544444561004639, y=5.544444561004639, theta=0.0, linear_velocity=0.0, angular_velocity=0.0) count :  6\n",
      "X :  5.544444561004639\n",
      "Y :  5.544444561004639\n",
      "Theta :  0.0\n"
     ]
    },
    {
     "ename": "Exception",
     "evalue": "Stop Subscription",
     "output_type": "error",
     "traceback": [
      "\u001b[0;31m---------------------------------------------------------------------------\u001b[0m",
      "\u001b[0;31mException\u001b[0m                                 Traceback (most recent call last)",
      "Cell \u001b[0;32mIn[7], line 1\u001b[0m\n\u001b[0;32m----> 1\u001b[0m \u001b[43mrp\u001b[49m\u001b[38;5;241;43m.\u001b[39;49m\u001b[43mspin\u001b[49m\u001b[43m(\u001b[49m\u001b[43mtest_node\u001b[49m\u001b[43m)\u001b[49m\n",
      "File \u001b[0;32m/opt/ros/humble/local/lib/python3.10/dist-packages/rclpy/__init__.py:222\u001b[0m, in \u001b[0;36mspin\u001b[0;34m(node, executor)\u001b[0m\n\u001b[1;32m    220\u001b[0m     executor\u001b[38;5;241m.\u001b[39madd_node(node)\n\u001b[1;32m    221\u001b[0m     \u001b[38;5;28;01mwhile\u001b[39;00m executor\u001b[38;5;241m.\u001b[39mcontext\u001b[38;5;241m.\u001b[39mok():\n\u001b[0;32m--> 222\u001b[0m         \u001b[43mexecutor\u001b[49m\u001b[38;5;241;43m.\u001b[39;49m\u001b[43mspin_once\u001b[49m\u001b[43m(\u001b[49m\u001b[43m)\u001b[49m\n\u001b[1;32m    223\u001b[0m \u001b[38;5;28;01mfinally\u001b[39;00m:\n\u001b[1;32m    224\u001b[0m     executor\u001b[38;5;241m.\u001b[39mremove_node(node)\n",
      "File \u001b[0;32m/opt/ros/humble/local/lib/python3.10/dist-packages/rclpy/executors.py:739\u001b[0m, in \u001b[0;36mSingleThreadedExecutor.spin_once\u001b[0;34m(self, timeout_sec)\u001b[0m\n\u001b[1;32m    738\u001b[0m \u001b[38;5;28;01mdef\u001b[39;00m \u001b[38;5;21mspin_once\u001b[39m(\u001b[38;5;28mself\u001b[39m, timeout_sec: \u001b[38;5;28mfloat\u001b[39m \u001b[38;5;241m=\u001b[39m \u001b[38;5;28;01mNone\u001b[39;00m) \u001b[38;5;241m-\u001b[39m\u001b[38;5;241m>\u001b[39m \u001b[38;5;28;01mNone\u001b[39;00m:\n\u001b[0;32m--> 739\u001b[0m     \u001b[38;5;28;43mself\u001b[39;49m\u001b[38;5;241;43m.\u001b[39;49m\u001b[43m_spin_once_impl\u001b[49m\u001b[43m(\u001b[49m\u001b[43mtimeout_sec\u001b[49m\u001b[43m)\u001b[49m\n",
      "File \u001b[0;32m/opt/ros/humble/local/lib/python3.10/dist-packages/rclpy/executors.py:736\u001b[0m, in \u001b[0;36mSingleThreadedExecutor._spin_once_impl\u001b[0;34m(self, timeout_sec)\u001b[0m\n\u001b[1;32m    734\u001b[0m handler()\n\u001b[1;32m    735\u001b[0m \u001b[38;5;28;01mif\u001b[39;00m handler\u001b[38;5;241m.\u001b[39mexception() \u001b[38;5;129;01mis\u001b[39;00m \u001b[38;5;129;01mnot\u001b[39;00m \u001b[38;5;28;01mNone\u001b[39;00m:\n\u001b[0;32m--> 736\u001b[0m     \u001b[38;5;28;01mraise\u001b[39;00m handler\u001b[38;5;241m.\u001b[39mexception()\n",
      "File \u001b[0;32m/opt/ros/humble/local/lib/python3.10/dist-packages/rclpy/task.py:239\u001b[0m, in \u001b[0;36mTask.__call__\u001b[0;34m(self)\u001b[0m\n\u001b[1;32m    236\u001b[0m \u001b[38;5;28;01mif\u001b[39;00m inspect\u001b[38;5;241m.\u001b[39miscoroutine(\u001b[38;5;28mself\u001b[39m\u001b[38;5;241m.\u001b[39m_handler):\n\u001b[1;32m    237\u001b[0m     \u001b[38;5;66;03m# Execute a coroutine\u001b[39;00m\n\u001b[1;32m    238\u001b[0m     \u001b[38;5;28;01mtry\u001b[39;00m:\n\u001b[0;32m--> 239\u001b[0m         \u001b[38;5;28;43mself\u001b[39;49m\u001b[38;5;241;43m.\u001b[39;49m\u001b[43m_handler\u001b[49m\u001b[38;5;241;43m.\u001b[39;49m\u001b[43msend\u001b[49m\u001b[43m(\u001b[49m\u001b[38;5;28;43;01mNone\u001b[39;49;00m\u001b[43m)\u001b[49m\n\u001b[1;32m    240\u001b[0m     \u001b[38;5;28;01mexcept\u001b[39;00m \u001b[38;5;167;01mStopIteration\u001b[39;00m \u001b[38;5;28;01mas\u001b[39;00m e:\n\u001b[1;32m    241\u001b[0m         \u001b[38;5;66;03m# The coroutine finished; store the result\u001b[39;00m\n\u001b[1;32m    242\u001b[0m         \u001b[38;5;28mself\u001b[39m\u001b[38;5;241m.\u001b[39m_handler\u001b[38;5;241m.\u001b[39mclose()\n",
      "File \u001b[0;32m/opt/ros/humble/local/lib/python3.10/dist-packages/rclpy/executors.py:437\u001b[0m, in \u001b[0;36mExecutor._make_handler.<locals>.handler\u001b[0;34m(entity, gc, is_shutdown, work_tracker)\u001b[0m\n\u001b[1;32m    434\u001b[0m gc\u001b[38;5;241m.\u001b[39mtrigger()\n\u001b[1;32m    436\u001b[0m \u001b[38;5;28;01mtry\u001b[39;00m:\n\u001b[0;32m--> 437\u001b[0m     \u001b[38;5;28;01mawait\u001b[39;00m call_coroutine(entity, arg)\n\u001b[1;32m    438\u001b[0m \u001b[38;5;28;01mfinally\u001b[39;00m:\n\u001b[1;32m    439\u001b[0m     entity\u001b[38;5;241m.\u001b[39mcallback_group\u001b[38;5;241m.\u001b[39mending_execution(entity)\n",
      "File \u001b[0;32m/opt/ros/humble/local/lib/python3.10/dist-packages/rclpy/executors.py:362\u001b[0m, in \u001b[0;36mExecutor._execute_subscription\u001b[0;34m(self, sub, msg)\u001b[0m\n\u001b[1;32m    360\u001b[0m \u001b[38;5;28;01masync\u001b[39;00m \u001b[38;5;28;01mdef\u001b[39;00m \u001b[38;5;21m_execute_subscription\u001b[39m(\u001b[38;5;28mself\u001b[39m, sub, msg):\n\u001b[1;32m    361\u001b[0m     \u001b[38;5;28;01mif\u001b[39;00m msg:\n\u001b[0;32m--> 362\u001b[0m         \u001b[38;5;28;01mawait\u001b[39;00m await_or_execute(sub\u001b[38;5;241m.\u001b[39mcallback, msg)\n",
      "File \u001b[0;32m/opt/ros/humble/local/lib/python3.10/dist-packages/rclpy/executors.py:107\u001b[0m, in \u001b[0;36mawait_or_execute\u001b[0;34m(callback, *args)\u001b[0m\n\u001b[1;32m    104\u001b[0m     \u001b[38;5;28;01mreturn\u001b[39;00m \u001b[38;5;28;01mawait\u001b[39;00m callback(\u001b[38;5;241m*\u001b[39margs)\n\u001b[1;32m    105\u001b[0m \u001b[38;5;28;01melse\u001b[39;00m:\n\u001b[1;32m    106\u001b[0m     \u001b[38;5;66;03m# Call a normal function\u001b[39;00m\n\u001b[0;32m--> 107\u001b[0m     \u001b[38;5;28;01mreturn\u001b[39;00m \u001b[43mcallback\u001b[49m\u001b[43m(\u001b[49m\u001b[38;5;241;43m*\u001b[39;49m\u001b[43margs\u001b[49m\u001b[43m)\u001b[49m\n",
      "Cell \u001b[0;32mIn[4], line 15\u001b[0m, in \u001b[0;36mcallback\u001b[0;34m(data)\u001b[0m\n\u001b[1;32m     13\u001b[0m \u001b[38;5;28;01mif\u001b[39;00m count \u001b[38;5;241m>\u001b[39m \u001b[38;5;241m5\u001b[39m:\n\u001b[1;32m     14\u001b[0m     count \u001b[38;5;241m=\u001b[39m \u001b[38;5;241m0\u001b[39m\n\u001b[0;32m---> 15\u001b[0m     \u001b[38;5;28;01mraise\u001b[39;00m \u001b[38;5;167;01mException\u001b[39;00m(\u001b[38;5;124m\"\u001b[39m\u001b[38;5;124mStop Subscription\u001b[39m\u001b[38;5;124m\"\u001b[39m)\n",
      "\u001b[0;31mException\u001b[0m: Stop Subscription"
     ]
    }
   ],
   "source": [
    "rp.spin(test_node)"
   ]
  },
  {
   "cell_type": "code",
   "execution_count": 11,
   "id": "4f442f55-0498-4098-888f-d5162c164eba",
   "metadata": {},
   "outputs": [],
   "source": [
    "test_node.destroy_node()"
   ]
  },
  {
   "cell_type": "code",
   "execution_count": null,
   "id": "d44403d2-a048-424f-adfa-870586477476",
   "metadata": {},
   "outputs": [],
   "source": []
  }
 ],
 "metadata": {
  "kernelspec": {
   "display_name": "Python 3 (ipykernel)",
   "language": "python",
   "name": "python3"
  },
  "language_info": {
   "codemirror_mode": {
    "name": "ipython",
    "version": 3
   },
   "file_extension": ".py",
   "mimetype": "text/x-python",
   "name": "python",
   "nbconvert_exporter": "python",
   "pygments_lexer": "ipython3",
   "version": "3.10.12"
  }
 },
 "nbformat": 4,
 "nbformat_minor": 5
}
